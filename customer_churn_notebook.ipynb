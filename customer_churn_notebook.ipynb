{
 "cells": [
  {
   "cell_type": "markdown",
   "id": "ddf88484",
   "metadata": {},
   "source": [
    "# 📊 Customer Churn Data Analytics Project\n",
    "This notebook analyzes customer churn patterns using a synthetic telecom dataset.\n",
    "We will explore the data, visualize key trends, and extract actionable insights."
   ]
  },
  {
   "cell_type": "code",
   "execution_count": null,
   "id": "bf45b03e",
   "metadata": {},
   "outputs": [],
   "source": [
    "\n",
    "import pandas as pd\n",
    "import matplotlib.pyplot as plt\n",
    "import seaborn as sns\n",
    "\n",
    "# Load dataset\n",
    "df = pd.read_csv('data/customer_churn.csv')\n",
    "\n",
    "# Display first rows\n",
    "df.head()\n"
   ]
  },
  {
   "cell_type": "code",
   "execution_count": null,
   "id": "66ff3b10",
   "metadata": {},
   "outputs": [],
   "source": [
    "\n",
    "# Dataset info\n",
    "df.info()\n",
    "\n",
    "# Summary statistics\n",
    "df.describe()\n"
   ]
  },
  {
   "cell_type": "code",
   "execution_count": null,
   "id": "e4a50443",
   "metadata": {},
   "outputs": [],
   "source": [
    "\n",
    "# Churn distribution\n",
    "churn_rate = df['Churn'].value_counts(normalize=True)['Yes'] * 100\n",
    "sns.countplot(x='Churn', data=df, palette='Set2')\n",
    "plt.title(f'Customer Churn Distribution\\nChurn Rate: {churn_rate:.1f}%')\n",
    "plt.show()\n"
   ]
  },
  {
   "cell_type": "code",
   "execution_count": null,
   "id": "006cb228",
   "metadata": {},
   "outputs": [],
   "source": [
    "\n",
    "# Churn rate by contract type\n",
    "contract_churn = df.groupby('Contract')['Churn'].value_counts(normalize=True).unstack()['Yes'] * 100\n",
    "contract_churn.plot(kind='bar', color='orange', figsize=(6,4))\n",
    "plt.ylabel('Churn Rate (%)')\n",
    "plt.title('Churn Rate by Contract Type')\n",
    "plt.show()\n"
   ]
  },
  {
   "cell_type": "code",
   "execution_count": null,
   "id": "1c5d3ef4",
   "metadata": {},
   "outputs": [],
   "source": [
    "\n",
    "# Tech support vs churn\n",
    "tech_churn = df.groupby('TechSupport')['Churn'].value_counts(normalize=True).unstack()['Yes'] * 100\n",
    "tech_churn.plot(kind='bar', color='green', figsize=(5,4))\n",
    "plt.ylabel('Churn Rate (%)')\n",
    "plt.title('Churn Rate by Tech Support')\n",
    "plt.show()\n"
   ]
  },
  {
   "cell_type": "code",
   "execution_count": null,
   "id": "700deb03",
   "metadata": {},
   "outputs": [],
   "source": [
    "\n",
    "# Correlation heatmap for numerical features\n",
    "corr = df[['tenure', 'MonthlyCharges', 'TotalCharges']].corr()\n",
    "sns.heatmap(corr, annot=True, cmap='coolwarm')\n",
    "plt.title('Correlation Heatmap')\n",
    "plt.show()\n"
   ]
  },
  {
   "cell_type": "markdown",
   "id": "61e91fa5",
   "metadata": {},
   "source": [
    "\n",
    "## 📈 Key Insights\n",
    "- Customers with **Month-to-month contracts** have a significantly higher churn rate compared to one- or two-year contracts.\n",
    "- Lack of **tech support** doubles the likelihood of churn.\n",
    "- Higher **monthly charges** slightly correlate with increased churn.\n",
    "- Tenure and total charges are positively correlated, suggesting long-term customers are more loyal.\n"
   ]
  }
 ],
 "metadata": {},
 "nbformat": 4,
 "nbformat_minor": 5
}
